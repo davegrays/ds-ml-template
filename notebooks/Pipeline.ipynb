{
 "cells": [
  {
   "cell_type": "code",
   "execution_count": 1,
   "id": "18c2ac3e-30ac-4bd5-a39f-0ce0fb6b91f6",
   "metadata": {},
   "outputs": [],
   "source": [
    "%load_ext autoreload\n",
    "%autoreload 2\n",
    "\n",
    "from DSMLtemplate.Pipeline import Pipeline\n",
    "\n",
    "config = \"../configs/config1.yml\""
   ]
  },
  {
   "cell_type": "code",
   "execution_count": 2,
   "id": "8be7aa9e-102f-4f98-b7a4-bf7eecb64df5",
   "metadata": {},
   "outputs": [
    {
     "data": {
      "text/plain": [
       "'etl_proc_'"
      ]
     },
     "execution_count": 2,
     "metadata": {},
     "output_type": "execute_result"
    }
   ],
   "source": [
    "pipeline = Pipeline(config)\n",
    "pipeline.run(steps=[\"etl\", \"proc\"])"
   ]
  },
  {
   "cell_type": "code",
   "execution_count": null,
   "id": "9f6aad78-cfcf-4337-a5c9-cf8ef7b301a9",
   "metadata": {},
   "outputs": [],
   "source": []
  }
 ],
 "metadata": {
  "kernelspec": {
   "display_name": "template",
   "language": "python",
   "name": "template"
  },
  "language_info": {
   "codemirror_mode": {
    "name": "ipython",
    "version": 3
   },
   "file_extension": ".py",
   "mimetype": "text/x-python",
   "name": "python",
   "nbconvert_exporter": "python",
   "pygments_lexer": "ipython3",
   "version": "3.8.5"
  }
 },
 "nbformat": 4,
 "nbformat_minor": 5
}
